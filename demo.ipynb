{
 "cells": [
  {
   "cell_type": "markdown",
   "id": "95fc1883",
   "metadata": {},
   "source": [
    "## Display python env "
   ]
  },
  {
   "cell_type": "code",
   "execution_count": 11,
   "id": "2c69bd45",
   "metadata": {},
   "outputs": [
    {
     "data": {
      "text/plain": [
       "sys.version_info(major=3, minor=10, micro=11, releaselevel='final', serial=0)"
      ]
     },
     "execution_count": 11,
     "metadata": {},
     "output_type": "execute_result"
    }
   ],
   "source": [
    "import sys\n",
    "sys.version_info"
   ]
  },
  {
   "cell_type": "code",
   "execution_count": 12,
   "id": "14014e64",
   "metadata": {},
   "outputs": [
    {
     "data": {
      "text/plain": [
       "'3.10.11'"
      ]
     },
     "execution_count": 12,
     "metadata": {},
     "output_type": "execute_result"
    }
   ],
   "source": [
    "from platform import python_version\n",
    "python_version()"
   ]
  },
  {
   "cell_type": "code",
   "execution_count": 13,
   "id": "d976e790",
   "metadata": {},
   "outputs": [
    {
     "name": "stdout",
     "output_type": "stream",
     "text": [
      "/private/var/tmp/_bazel_yan/72c6c126d1b35acb2968fd852409fec2/execroot/__main__/bazel-out/darwin_arm64-fastbuild/bin/notebook.runfiles/python_interpreter/python/bin/python3.10\n"
     ]
    }
   ],
   "source": [
    "print(sys.executable)"
   ]
  },
  {
   "cell_type": "markdown",
   "id": "d7b86809",
   "metadata": {},
   "source": [
    "## work with pycrate"
   ]
  },
  {
   "cell_type": "code",
   "execution_count": 14,
   "id": "c9bffaa4",
   "metadata": {},
   "outputs": [],
   "source": [
    "from binascii       import unhexlify, hexlify\n",
    "from pycrate_core.utils import uint_to_bytes\n",
    "from pycrate_asn1dir import S1AP\n",
    "from pycrate_asn1dir import NGAP\n",
    "from pycrate_mobile import NAS, TS24007, TS24008_IE, TS24301_IE, TS24501_FGMM, TS23038, TS24501_IE,TS24501_FGSM\n",
    "from binascii import hexlify\n",
    "import json"
   ]
  },
  {
   "cell_type": "code",
   "execution_count": 15,
   "id": "69be9232",
   "metadata": {},
   "outputs": [
    {
     "data": {
      "text/plain": [
       "{'EMMSecProtNASMessage': [{'EMMHeaderSec': [{'SecHdr': 1}, {'ProtDisc': 7}]},\n",
       "  {'MAC': '7cd4be3c'},\n",
       "  {'Seqn': 4},\n",
       "  {'EMMAttachRequest': [{'EMMHeader': [{'SecHdr': 0},\n",
       "      {'ProtDisc': 7},\n",
       "      {'Type': 65}]},\n",
       "    {'NAS_KSI': [{'NAS_KSI': [{'TSC': 0}, {'Value': 0}]}]},\n",
       "    {'EPSAttachType': [{'V': 2}]},\n",
       "    {'EPSID': [{'L': 11},\n",
       "      {'EPSID': [{'Digit1': 15},\n",
       "        {'Odd': 0},\n",
       "        {'Type': 6},\n",
       "        {'PLMN': '00f110'},\n",
       "        {'MMEGroupID': 1},\n",
       "        {'MMECode': 1},\n",
       "        {'MTMSI': 234002994}]}]},\n",
       "    {'UENetCap': [{'L': 5},\n",
       "      {'UENetCap': [{'EEA0': 1},\n",
       "        {'EEA1_128': 1},\n",
       "        {'EEA2_128': 1},\n",
       "        {'EEA3_128': 1},\n",
       "        {'EEA4': 0},\n",
       "        {'EEA5': 0},\n",
       "        {'EEA6': 0},\n",
       "        {'EEA7': 0},\n",
       "        {'EIA0': 0},\n",
       "        {'EIA1_128': 1},\n",
       "        {'EIA2_128': 1},\n",
       "        {'EIA3_128': 1},\n",
       "        {'EIA4': 0},\n",
       "        {'EIA5': 0},\n",
       "        {'EIA6': 0},\n",
       "        {'EIA7': 0},\n",
       "        {'UEA0': 1},\n",
       "        {'UEA1': 1},\n",
       "        {'UEA2': 0},\n",
       "        {'UEA3': 0},\n",
       "        {'UEA4': 0},\n",
       "        {'UEA5': 0},\n",
       "        {'UEA6': 0},\n",
       "        {'UEA7': 0},\n",
       "        {'UCS2': 0},\n",
       "        {'UIA1': 1},\n",
       "        {'UIA2': 0},\n",
       "        {'UIA3': 0},\n",
       "        {'UIA4': 0},\n",
       "        {'UIA5': 0},\n",
       "        {'UIA6': 0},\n",
       "        {'UIA7': 0},\n",
       "        {'ProSe_dd': 0},\n",
       "        {'ProSe': 0},\n",
       "        {'H245_ASH': 0},\n",
       "        {'ACC_CSFB': 1},\n",
       "        {'LPP': 0},\n",
       "        {'LCS': 0},\n",
       "        {'X1_SRVCC': 0},\n",
       "        {'NF': 0}]}]},\n",
       "    {'ESMContainer': [{'L': 36},\n",
       "      {'ESMPDNConnectivityRequest': [{'ESMHeader': [{'EPSBearerId': 0},\n",
       "          {'ProtDisc': 2},\n",
       "          {'PTI': 177},\n",
       "          {'Type': 208}]},\n",
       "        {'PDNType': [{'V': 1}]},\n",
       "        {'RequestType': [{'V': 1}]},\n",
       "        {'ESMInfoTransferFlag': [{'T': 13},\n",
       "          {'ESMInfoTransferFlag': [{'spare': 0}, {'Value': 1}]}]},\n",
       "        {'ProtConfig': [{'T': 39},\n",
       "          {'L': 29},\n",
       "          {'ProtConfig': [{'Ext': 1},\n",
       "            {'spare': 0},\n",
       "            {'Prot': 0},\n",
       "            {'Config': [{'ProtConfigElt': [{'ID': 32801},\n",
       "                {'Len': 16},\n",
       "                {'Cont': [{'Code': 1},\n",
       "                  {'Id': 0},\n",
       "                  {'Len': 16},\n",
       "                  {'Data': [{'NCPOpt': [{'Type': 129},\n",
       "                      {'Len': 6},\n",
       "                      {'Data': '00000000'}]},\n",
       "                    {'NCPOpt': [{'Type': 131},\n",
       "                      {'Len': 6},\n",
       "                      {'Data': '00000000'}]}]}]}]},\n",
       "              {'ProtConfigElt': [{'ID': 13}, {'Len': 0}, {'Cont': ''}]},\n",
       "              {'ProtConfigElt': [{'ID': 10}, {'Len': 0}, {'Cont': ''}]},\n",
       "              {'ProtConfigElt': [{'ID': 5},\n",
       "                {'Len': 0},\n",
       "                {'Cont': ''}]}]}]}]}]}]},\n",
       "    {'OldTAI': [{'T': 82}, {'TAI': [{'PLMN': '00f110'}, {'TAC': 1}]}]},\n",
       "    {'DRXParam': [{'T': 92},\n",
       "      {'DRXParam': [{'SPLIT_PG_CYCLE_CODE': 10},\n",
       "        {'DRXCycleLen': 0},\n",
       "        {'SPLITonCCCH': 0},\n",
       "        {'NonDRXTimer': 0}]}]},\n",
       "    {'MSNetCap': [{'T': 49},\n",
       "      {'L': 3},\n",
       "      {'ms_network_capability_value_part': [{'gea1_bits': '1'},\n",
       "        {'sm_capabilities_via_dedicated_channels': '1'},\n",
       "        {'sm_capabilities_via_gprs_channels': '1'},\n",
       "        {'ucs2_support': '0'},\n",
       "        {'ss_screening_indicator': '01'},\n",
       "        {'solsa_capability': '0'},\n",
       "        {'revision_level_indicator': '1'},\n",
       "        {'pfc_feature_mode': '1'},\n",
       "        {'extended_gea_bits': [{'gea_2': '1'},\n",
       "          {'gea_3': '1'},\n",
       "          {'gea_4': '0'},\n",
       "          {'gea_5': '0'},\n",
       "          {'gea_6': '0'},\n",
       "          {'gea_7': '0'}]},\n",
       "        {'lcs_va_capability': '0'},\n",
       "        {'ps_inter_rat_ho_from_geran_to_utran_iu_mode_capability': '0'},\n",
       "        {'ps_inter_rat_ho_from_geran_to_e_utran_s1_mode_capability': '0'},\n",
       "        {'emm_combined_procedures_capability': '1'},\n",
       "        {'isr_support': '1'},\n",
       "        {'srvcc_to_geran_utran_capability': '0'},\n",
       "        {'epc_capability': '1'},\n",
       "        {'nf_capability': '0'},\n",
       "        {'geran_network_sharing_capability': '0'}]}]},\n",
       "    {'TMSIStatus': [{'T': 9}, {'TMSIStatus': [{'spare': 0}, {'Flag': 0}]}]},\n",
       "    {'MSCm2': [{'T': 17},\n",
       "      {'L': 3},\n",
       "      {'MSCm2': [{'spare': 0},\n",
       "        {'RevLevel': 2},\n",
       "        {'EarlyCmCap': 1},\n",
       "        {'NoA51': 0},\n",
       "        {'RFClass': 7},\n",
       "        {'spare': 0},\n",
       "        {'PSCap': 1},\n",
       "        {'SSScreeningCap': 1},\n",
       "        {'MTSMSCap': 1},\n",
       "        {'VBSNotifCap': 0},\n",
       "        {'VGCSNotifCap': 0},\n",
       "        {'FCFreqCap': 0},\n",
       "        {'MSCm3Cap': 1},\n",
       "        {'spare': 0},\n",
       "        {'LCSVACap': 1},\n",
       "        {'UCS2': 0},\n",
       "        {'SoLSACap': 0},\n",
       "        {'CMServPrompt': 1},\n",
       "        {'A53': 1},\n",
       "        {'A52': 0}]}]},\n",
       "    {'VoiceDomPref': [{'T': 93},\n",
       "      {'L': 1},\n",
       "      {'VoiceDomPref': [{'spare': 0}, {'UEUsage': 0}, {'VoiceDomPref': 0}]}]},\n",
       "    {'OldGUTIType': [{'T': 14}, {'GUTIType': [{'spare': 0}, {'Value': 0}]}]},\n",
       "    {'MSNetFeatSupp': [{'T': 12},\n",
       "      {'MSNetFeatSupp': [{'spare': 0}, {'ExtPeriodTimers': 1}]}]}]}]}"
      ]
     },
     "execution_count": 15,
     "metadata": {},
     "output_type": "execute_result"
    }
   ],
   "source": [
    "nas_attach_request_pdu = unhexlify(\"177cd4be3c040741020bf600f1100001010df29a3205f070c04010002402b1d011d1271d8080211001000010810600000000830600000000000d00000a000005005200f11000015c0a003103e5e0349011035758a65d0100e0c1\")   \n",
    "m, e = NAS.parse_NAS_MO(nas_attach_request_pdu)\n",
    "jsonblob = json.loads(m.to_json())\n",
    "jsonblob"
   ]
  }
 ],
 "metadata": {
  "kernelspec": {
   "display_name": "Python 3 (ipykernel)",
   "language": "python",
   "name": "python3"
  },
  "language_info": {
   "codemirror_mode": {
    "name": "ipython",
    "version": 3
   },
   "file_extension": ".py",
   "mimetype": "text/x-python",
   "name": "python",
   "nbconvert_exporter": "python",
   "pygments_lexer": "ipython3",
   "version": "3.10.11"
  }
 },
 "nbformat": 4,
 "nbformat_minor": 5
}
